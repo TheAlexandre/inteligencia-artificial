{
  "nbformat": 4,
  "nbformat_minor": 0,
  "metadata": {
    "colab": {
      "provenance": []
    },
    "kernelspec": {
      "name": "python3",
      "display_name": "Python 3"
    },
    "language_info": {
      "name": "python"
    }
  },
  "cells": [
    {
      "cell_type": "markdown",
      "source": [
        "## 1 - Escreva uma função que receba um número n e retorne o seu fatorial"
      ],
      "metadata": {
        "id": "gw__KPGKdAxQ"
      }
    },
    {
      "cell_type": "code",
      "source": [
        "fat = 1\n",
        "\n",
        "n = int(input('Digite um numero para saber seu fatorial: '))\n",
        "  \n",
        "for i in range(1,n+1): \n",
        "    fat = fat * i \n",
        "\n",
        "print('O fatorial do número',n,'e:',fat)       "
      ],
      "metadata": {
        "id": "TBt0lp0OdTBV",
        "colab": {
          "base_uri": "https://localhost:8080/"
        },
        "outputId": "7c1d2972-9d65-402f-d877-3dbffde7d1ce"
      },
      "execution_count": null,
      "outputs": [
        {
          "output_type": "stream",
          "name": "stdout",
          "text": [
            "Digite um numero para saber seu fatorial: 7\n",
            "O fatorial do número 7 e: 5040\n"
          ]
        }
      ]
    },
    {
      "cell_type": "markdown",
      "source": [
        "## 2 - Imprima na tela o fatorial de 0 até 10."
      ],
      "metadata": {
        "id": "UT-iDIdqd3DN"
      }
    },
    {
      "cell_type": "code",
      "source": [
        "fat=1\n",
        "count=1\n",
        "\n",
        "while count <= 10:\n",
        "    fat *= count\n",
        "    print('fatorial de',count,'e',fat)\n",
        "    count += 1"
      ],
      "metadata": {
        "id": "kpfZ3Lg6d-bu",
        "colab": {
          "base_uri": "https://localhost:8080/"
        },
        "outputId": "e99a3e78-951d-414c-b690-4739f12fd996"
      },
      "execution_count": null,
      "outputs": [
        {
          "output_type": "stream",
          "name": "stdout",
          "text": [
            "fatorial de 1 e 1\n",
            "fatorial de 2 e 2\n",
            "fatorial de 3 e 6\n",
            "fatorial de 4 e 24\n",
            "fatorial de 5 e 120\n",
            "fatorial de 6 e 720\n",
            "fatorial de 7 e 5040\n",
            "fatorial de 8 e 40320\n",
            "fatorial de 9 e 362880\n",
            "fatorial de 10 e 3628800\n"
          ]
        }
      ]
    },
    {
      "cell_type": "markdown",
      "source": [
        "## 3 - Armazene o fatorial de 0 até 10 em uma lista e imprima a lista usando print."
      ],
      "metadata": {
        "id": "fLwDSlE7dzgf"
      }
    },
    {
      "cell_type": "code",
      "source": [
        "fat=1\n",
        "count=1\n",
        "lista = []\n",
        "lista2 = []\n",
        "\n",
        "while count <= 10:\n",
        "    fat *= count\n",
        "    lista.append(fat)\n",
        "    lista2.append(count)\n",
        "    count += 1\n",
        "\n",
        "print('Fatorial de',lista2,'são',lista)"
      ],
      "metadata": {
        "id": "u1Uo8BuPeBK1",
        "colab": {
          "base_uri": "https://localhost:8080/"
        },
        "outputId": "2998d175-739f-4a8a-c7ee-f9370e5909b6"
      },
      "execution_count": null,
      "outputs": [
        {
          "output_type": "stream",
          "name": "stdout",
          "text": [
            "Fatorial de [1, 2, 3, 4, 5, 6, 7, 8, 9, 10] são [1, 2, 6, 24, 120, 720, 5040, 40320, 362880, 3628800]\n"
          ]
        }
      ]
    },
    {
      "cell_type": "markdown",
      "source": [
        "## 4 - Imprima a lista de fatoriais de trás para frente."
      ],
      "metadata": {
        "id": "QgKVyzcZdvZ9"
      }
    },
    {
      "cell_type": "code",
      "source": [
        "fat=1\n",
        "count=1\n",
        "lista = []\n",
        "lista2 = []\n",
        "\n",
        "while count <= 10:\n",
        "    fat *= count\n",
        "    lista.append(fat)\n",
        "    lista2.append(count)\n",
        "    count += 1\n",
        "\n",
        "lista = lista[::-1]\n",
        "lista2 = lista2[::-1]\n",
        "print('Fatorial de',lista2,'são',lista)"
      ],
      "metadata": {
        "id": "u7hJ0IL6eCis",
        "colab": {
          "base_uri": "https://localhost:8080/"
        },
        "outputId": "75898327-1482-4d00-ab2f-c5bf0eed0484"
      },
      "execution_count": null,
      "outputs": [
        {
          "output_type": "stream",
          "name": "stdout",
          "text": [
            "Fatorial de [10, 9, 8, 7, 6, 5, 4, 3, 2, 1] são [3628800, 362880, 40320, 5040, 720, 120, 24, 6, 2, 1]\n"
          ]
        }
      ]
    },
    {
      "cell_type": "markdown",
      "source": [
        "## 5 - Escreva um programa que leia um valor monetário e indique o número mínimo de moedas que devem ser utilizadas para representa-lo."
      ],
      "metadata": {
        "id": "oKbkesPYds7A"
      }
    },
    {
      "cell_type": "code",
      "source": [
        "moedas = float(input('Insira um valor monetário para saber quantas moedas iram representa-lo: '))\n",
        "\n",
        "cont100 = 0 #1,00\n",
        "cont050 = 0 #0,50\n",
        "cont025 = 0 #0,25\n",
        "cont010 = 0 #0,10\n",
        "cont005 = 0 #0,05\n",
        "cont001 = 0 #0,01\n",
        "\n",
        "while moedas >= 0.00:\n",
        "\n",
        "  if moedas >= 1.00:\n",
        "    cont100 += 1\n",
        "    moedas -= 1.00\n",
        "\n",
        "  elif moedas >= 0.50:\n",
        "    cont050 += 1\n",
        "    moedas -= 0.50\n",
        "\n",
        "  elif moedas >= 0.25:\n",
        "    cont025 += 1\n",
        "    moedas -= 0.25\n",
        "\n",
        "  elif moedas >= 0.10:\n",
        "    cont010 += 1\n",
        "    moedas -= 0.10\n",
        "\n",
        "  elif moedas >= 0.05:\n",
        "    cont005 += 1\n",
        "    moedas -= 0.05\n",
        "\n",
        "  elif moedas >= 0.01:\n",
        "    cont001 += 1\n",
        "    moedas -= 0.01\n",
        "  \n",
        "  else:\n",
        "    break\n",
        "\n",
        "print('Moedas em R$1,00 =',cont100)\n",
        "print('Moedas em R$0,50 =',cont050)\n",
        "print('Moedas em R$0,25 =',cont025)\n",
        "print('Moedas em R$0,10 =',cont010)\n",
        "print('Moedas em R$0,05 =',cont005)\n",
        "print('Moedas em R$0,01 =',cont001)"
      ],
      "metadata": {
        "id": "NVSkgl3zdzLe",
        "colab": {
          "base_uri": "https://localhost:8080/"
        },
        "outputId": "f9041028-c0e6-4814-ce00-da3996d2f487"
      },
      "execution_count": null,
      "outputs": [
        {
          "output_type": "stream",
          "name": "stdout",
          "text": [
            "Insira um valor monetário para saber quntas moedas iram representa-lo: 2.35\n",
            "Moedas em R$1,00 = 2\n",
            "Moedas em R$0,50 = 0\n",
            "Moedas em R$0,25 = 1\n",
            "Moedas em R$0,10 = 1\n",
            "Moedas em R$0,05 = 0\n",
            "Moedas em R$0,01 = 0\n"
          ]
        }
      ]
    }
  ]
}